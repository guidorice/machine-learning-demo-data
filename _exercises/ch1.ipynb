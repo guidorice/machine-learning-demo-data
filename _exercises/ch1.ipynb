{
 "cells": [
  {
   "cell_type": "markdown",
   "metadata": {},
   "source": [
    "# Chapter 1: Basic Math and Calculus Review"
   ]
  },
  {
   "cell_type": "code",
   "execution_count": 1,
   "metadata": {},
   "outputs": [],
   "source": [
    "from sympy import *"
   ]
  },
  {
   "cell_type": "code",
   "execution_count": 2,
   "metadata": {},
   "outputs": [
    {
     "data": {
      "text/plain": [
       "62.6738"
      ]
     },
     "execution_count": 2,
     "metadata": {},
     "output_type": "execute_result"
    }
   ],
   "source": [
    "# Ex 1:\n",
    "# Is the value 62.738 rational or irrational? why or why not?\n",
    "# -> It's rational because it can be expressed as a fraction (has finite # of\n",
    "# decimal places)\n",
    "626738 / 10000"
   ]
  },
  {
   "cell_type": "code",
   "execution_count": 3,
   "metadata": {},
   "outputs": [
    {
     "data": {
      "text/plain": [
       "100"
      ]
     },
     "execution_count": 3,
     "metadata": {},
     "output_type": "execute_result"
    }
   ],
   "source": [
    "# Ex 2:\n",
    "# Evaluate the expression 10 ** 7 * 10 ** -5\n",
    "# 10 ** (7 - 5)\n",
    "10 ** 2"
   ]
  },
  {
   "cell_type": "code",
   "execution_count": 4,
   "metadata": {},
   "outputs": [],
   "source": [
    "# Ex 3:\n",
    "# Evaluate the expression 81 ** (1/2)\n",
    "# sqrt(81)\n",
    "# 9"
   ]
  },
  {
   "cell_type": "code",
   "execution_count": 5,
   "metadata": {},
   "outputs": [
    {
     "data": {
      "text/plain": [
       "125"
      ]
     },
     "execution_count": 5,
     "metadata": {},
     "output_type": "execute_result"
    }
   ],
   "source": [
    "# Ex 4:\n",
    "# Evaluate the expression 25 ** (3/2)\n",
    "# sqrt(25) ** 3\n",
    "# 5 ** 3\n",
    "5 ** 3"
   ]
  },
  {
   "cell_type": "code",
   "execution_count": 6,
   "metadata": {},
   "outputs": [
    {
     "data": {
      "text/plain": [
       "1161.4722313334678"
      ]
     },
     "execution_count": 6,
     "metadata": {},
     "output_type": "execute_result"
    }
   ],
   "source": [
    "# Ex 5:\n",
    "# compound interest formula\n",
    "# A = P * (1 + (r/t)) ** (nt)\n",
    "\n",
    "# P = $1000 principal\n",
    "p = 1000\n",
    "# r = 0.05 (5% monthly interest)\n",
    "r = 0.05\n",
    "# n = 12 months\n",
    "n = 12\n",
    "# t = 3 years term\n",
    "t = 3.0\n",
    "p * (1 + (r / n)) ** (n * t)"
   ]
  },
  {
   "cell_type": "code",
   "execution_count": 10,
   "metadata": {},
   "outputs": [
    {
     "data": {
      "text/plain": [
       "1161.834242728283"
      ]
     },
     "execution_count": 10,
     "metadata": {},
     "output_type": "execute_result"
    }
   ],
   "source": [
    "# Ex 6:\n",
    "# continuous compound interest formula\n",
    "# A = P * (e) ** (rt)\n",
    "# P = $1000 principal\n",
    "# r = 0.05 (5% continuous interest)\n",
    "# n = 12\n",
    "# t = 3 years term\n",
    "# e = Euler's number\n",
    "import math\n",
    "e = math.e\n",
    "1000 * (e ** (0.05 * 3))"
   ]
  },
  {
   "cell_type": "code",
   "execution_count": 13,
   "metadata": {},
   "outputs": [
    {
     "data": {
      "text/latex": [
       "$\\displaystyle 6 x$"
      ],
      "text/plain": [
       "6*x"
      ]
     },
     "execution_count": 13,
     "metadata": {},
     "output_type": "execute_result"
    }
   ],
   "source": [
    "# Ex 7:\n",
    "# What is the slope of f(x)at x = 3?\n",
    "x = symbols('x')\n",
    "f = 3 * x ** 2 + 1\n",
    "dx_f = diff(f)\n",
    "dx_f"
   ]
  },
  {
   "cell_type": "code",
   "execution_count": 15,
   "metadata": {},
   "outputs": [
    {
     "data": {
      "text/latex": [
       "$\\displaystyle 18$"
      ],
      "text/plain": [
       "18"
      ]
     },
     "execution_count": 15,
     "metadata": {},
     "output_type": "execute_result"
    }
   ],
   "source": [
    "dx_f.subs(x, 3)"
   ]
  },
  {
   "cell_type": "code",
   "execution_count": 16,
   "metadata": {},
   "outputs": [
    {
     "data": {
      "text/latex": [
       "$\\displaystyle 10$"
      ],
      "text/plain": [
       "10"
      ]
     },
     "execution_count": 16,
     "metadata": {},
     "output_type": "execute_result"
    }
   ],
   "source": [
    "# Ex 8:\n",
    "# What is the area under the curve for x between 0 and 2?\n",
    "x = symbols('x')\n",
    "f = 3 * x ** 2 + 1\n",
    "area = integrate(f, (x, 0, 2))\n",
    "area"
   ]
  }
 ],
 "metadata": {
  "kernelspec": {
   "display_name": "Python 3.10.5 ('venv': venv)",
   "language": "python",
   "name": "python3"
  },
  "language_info": {
   "codemirror_mode": {
    "name": "ipython",
    "version": 3
   },
   "file_extension": ".py",
   "mimetype": "text/x-python",
   "name": "python",
   "nbconvert_exporter": "python",
   "pygments_lexer": "ipython3",
   "version": "3.10.5"
  },
  "orig_nbformat": 4,
  "vscode": {
   "interpreter": {
    "hash": "b5056795619d8bb0b616a53e49f6c84a617fead7fa7835ddebe35d11cfc461cb"
   }
  }
 },
 "nbformat": 4,
 "nbformat_minor": 2
}
